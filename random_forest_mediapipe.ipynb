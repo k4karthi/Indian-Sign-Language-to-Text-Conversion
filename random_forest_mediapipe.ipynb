{
  "cells": [
    {
      "cell_type": "markdown",
      "metadata": {
        "id": "view-in-github",
        "colab_type": "text"
      },
      "source": [
        "<a href=\"https://colab.research.google.com/github/k4karthi/Indian-Sign-Language-to-Text-Conversion/blob/main/random_forest_mediapipe.ipynb\" target=\"_parent\"><img src=\"https://colab.research.google.com/assets/colab-badge.svg\" alt=\"Open In Colab\"/></a>"
      ]
    },
    {
      "cell_type": "code",
      "execution_count": null,
      "metadata": {
        "id": "HQ5G14uKfCRn"
      },
      "outputs": [],
      "source": [
        "from google.colab import drive\n",
        "drive.mount('/content/drive')"
      ]
    },
    {
      "cell_type": "markdown",
      "metadata": {
        "id": "HiSmE5011bHK"
      },
      "source": [
        "##Importing Libraries"
      ]
    },
    {
      "cell_type": "code",
      "execution_count": null,
      "metadata": {
        "collapsed": true,
        "id": "xEPvJ1KWgtvx"
      },
      "outputs": [],
      "source": [
        "!git clone https://github.com/AssemblyAI-Examples/mediapipe-python.git\n",
        "!pip install mediapipe\n",
        "!pip install PyQt5\n",
        "!pip install ipython==7.32.0"
      ]
    },
    {
      "cell_type": "code",
      "execution_count": null,
      "metadata": {
        "collapsed": true,
        "id": "a6sGL2-l0Wfx"
      },
      "outputs": [],
      "source": [
        "import urllib.request\n",
        "import pickle\n",
        "import matplotlib as mpl\n",
        "from matplotlib import animation\n",
        "import PyQt5\n",
        "from PIL import Image\n",
        "from IPython.display import HTML\n",
        "import importlib\n",
        "from base64 import b64encode\n",
        "\n"
      ]
    },
    {
      "cell_type": "code",
      "source": [
        "import os\n",
        "import cv2\n",
        "import random\n",
        "import pickle\n",
        "import numpy as np\n",
        "import matplotlib.pyplot as plt\n",
        "import seaborn as sns\n",
        "from tqdm import tqdm\n",
        "import joblib\n",
        "\n",
        "import mediapipe as mp\n",
        "\n",
        "from sklearn.model_selection import train_test_split\n",
        "from sklearn.ensemble import RandomForestClassifier\n",
        "from sklearn.metrics import (\n",
        "    accuracy_score,\n",
        "    confusion_matrix,\n",
        "    classification_report,\n",
        "    roc_curve,\n",
        "    auc\n",
        ")\n",
        "from sklearn.preprocessing import LabelBinarizer\n"
      ],
      "metadata": {
        "id": "GiwOBCOyX3j9"
      },
      "execution_count": null,
      "outputs": []
    },
    {
      "cell_type": "markdown",
      "source": [
        "##Initializing Mediapipe"
      ],
      "metadata": {
        "id": "MBL1Lv6IYbPk"
      }
    },
    {
      "cell_type": "code",
      "execution_count": null,
      "metadata": {
        "id": "lI_PTLZefyFH"
      },
      "outputs": [],
      "source": [
        "mp_hands = mp.solutions.hands\n",
        "mp_drawing = mp.solutions.drawing_utils\n",
        "mp_drawing_styles = mp.solutions.drawing_styles\n",
        "hands = mp_hands.Hands(static_image_mode=True, min_detection_confidence=0.5)"
      ]
    },
    {
      "cell_type": "code",
      "execution_count": null,
      "metadata": {
        "id": "N8453HDhfyJt"
      },
      "outputs": [],
      "source": [
        "data_dir = 'path containing augmented images'\n",
        "data = []\n",
        "labels = []\n",
        "for i in (os.listdir(data_dir)):\n",
        "    if i == '.DS_Store':\n",
        "        pass\n",
        "    else:\n",
        "        for j in os.listdir(os.path.join(data_dir,i)):\n",
        "            data_aux = []\n",
        "            img_path = os.path.join(data_dir,i,j)\n",
        "            img = cv2.imread(img_path)\n",
        "\n",
        "            # Check if the image was loaded successfully\n",
        "            if img is None:\n",
        "                print(f\"Error loading image: {img_path}\")\n",
        "                continue  # Skip to the next image\n",
        "\n",
        "            img_rgb = cv2.cvtColor(img,cv2.COLOR_BGR2RGB)\n",
        "\n",
        "            results = hands.process(img_rgb)\n",
        "            if results.multi_hand_landmarks:\n",
        "                for hand_landmarks in results.multi_hand_landmarks:\n",
        "                    for z in range(len(hand_landmarks.landmark)):\n",
        "                        x = hand_landmarks.landmark[z].x\n",
        "                        y = hand_landmarks.landmark[z].y\n",
        "                        data_aux.append(x)\n",
        "                        data_aux.append(y)\n",
        "                data.append(data_aux)\n",
        "                labels.append(i)\n",
        "\n",
        "# save data\n",
        "f = open('data.pickle', 'wb')\n",
        "pickle.dump({'data':data,'labels':labels},f)\n",
        "f.close()"
      ]
    },
    {
      "cell_type": "code",
      "execution_count": null,
      "metadata": {
        "collapsed": true,
        "id": "U0FoS8pafyPF"
      },
      "outputs": [],
      "source": [
        "# visualize landmarks\n",
        "data_dir = 'path containing augmented images'\n",
        "for i in sorted(os.listdir(data_dir)):\n",
        "    if i == '.DS_Store':\n",
        "        pass\n",
        "    else:\n",
        "        for j in os.listdir(os.path.join(data_dir,i))[0:1]:\n",
        "            img = cv2.imread(os.path.join(data_dir,i,j))\n",
        "            img_rgb = cv2.cvtColor(img,cv2.COLOR_BGR2RGB)\n",
        "\n",
        "            results = hands.process(img_rgb)\n",
        "            if results.multi_hand_landmarks:\n",
        "                for hand_landmarks in results.multi_hand_landmarks:\n",
        "                    mp_drawing.draw_landmarks(\n",
        "                        img_rgb, # img to draw\n",
        "                        hand_landmarks,\n",
        "                        mp_hands.HAND_CONNECTIONS,\n",
        "                        mp_drawing_styles.get_default_hand_landmarks_style(),\n",
        "                        mp_drawing_styles.get_default_hand_connections_style()\n",
        "\n",
        "                    )\n",
        "\n",
        "\n",
        "            plt.figure()\n",
        "            plt.title(i)\n",
        "            plt.imshow(img_rgb)\n",
        "plt.show()"
      ]
    },
    {
      "cell_type": "markdown",
      "source": [
        "##Model Training"
      ],
      "metadata": {
        "id": "RtNYvAbdYkSH"
      }
    },
    {
      "cell_type": "code",
      "execution_count": null,
      "metadata": {
        "id": "-XprhU7R6kz3"
      },
      "outputs": [],
      "source": [
        "import numpy as np\n",
        "from sklearn.model_selection import train_test_split\n",
        "from sklearn.ensemble import RandomForestClassifier\n",
        "from sklearn.metrics import accuracy_score\n",
        "\n",
        "# Pad the data to have the same length for all samples\n",
        "max_len = max(len(row) for row in data)\n",
        "padded_data = [row + [0] * (max_len - len(row)) for row in data]\n",
        "\n",
        "# Now convert the padded data to a NumPy array\n",
        "X = np.array(padded_data)\n",
        "\n",
        "# Proceed with train_test_split\n",
        "X_train, X_test, y_train, y_test = train_test_split(X, labels, test_size=0.15, random_state=22, shuffle=True)\n",
        "\n",
        "# model\n",
        "model = RandomForestClassifier(random_state=22)\n",
        "model.fit(X_train, y_train)\n",
        "\n",
        "# predict\n",
        "pred = model.predict(X_test)\n",
        "\n",
        "# accuracy\n",
        "accuracy_score(y_test, pred)"
      ]
    },
    {
      "cell_type": "markdown",
      "source": [
        "##Testing and Evaluation"
      ],
      "metadata": {
        "id": "YyGlEemEYrje"
      }
    },
    {
      "cell_type": "code",
      "execution_count": null,
      "metadata": {
        "id": "OMoxK25bn2n1"
      },
      "outputs": [],
      "source": [
        "import numpy as np\n",
        "from sklearn.model_selection import train_test_split\n",
        "from sklearn.ensemble import RandomForestClassifier\n",
        "from sklearn.metrics import accuracy_score\n",
        "\n",
        "# Pad the data to have the same length for all samples\n",
        "max_len = max(len(row) for row in data)\n",
        "padded_data = [row + [0] * (max_len - len(row)) for row in data]\n",
        "\n",
        "# Now convert the padded data to a NumPy array\n",
        "X = np.array(padded_data)\n",
        "\n",
        "# Proceed with train_test_split\n",
        "X_train, X_temp, y_train, y_temp = train_test_split(X, labels, test_size=0.30, random_state=22, shuffle=True)\n",
        "X_val, X_test, y_val, y_test = train_test_split(X_temp, y_temp, test_size=0.50, random_state=22, shuffle=True)\n",
        "\n",
        "# Initialize and train the model\n",
        "model = RandomForestClassifier(random_state=22)\n",
        "model.fit(X_train, y_train)\n",
        "\n",
        "# Validation Accuracy\n",
        "y_val_pred = model.predict(X_val)\n",
        "val_accuracy = accuracy_score(y_val, y_val_pred)\n",
        "print(f\"Validation Accuracy: {val_accuracy:.4f}\")\n",
        "\n",
        "# Test Accuracy\n",
        "y_test_pred = model.predict(X_test)\n",
        "test_accuracy = accuracy_score(y_test, y_test_pred)\n",
        "print(f\"Test Accuracy: {test_accuracy:.4f}\")"
      ]
    },
    {
      "cell_type": "code",
      "execution_count": null,
      "metadata": {
        "id": "RFAPYd1wzSTQ"
      },
      "outputs": [],
      "source": [
        "# Convert scores to multiples of 100\n",
        "val_scores_100 = [score * 100 for score in val_scores]\n",
        "test_scores_100 = [score * 100 for score in test_scores]\n",
        "\n",
        "# 🎯 Plot Accuracy, Precision, Recall, F1-score (out of 100)\n",
        "plt.figure(figsize=(8, 6))\n",
        "x = range(len(metrics))\n",
        "plt.bar(x, val_scores_100, width=0.4, label='Validation', color='skyblue', align='center')\n",
        "plt.bar([p + 0.4 for p in x], test_scores_100, width=0.4, label='Testing', color='salmon', align='center')\n",
        "plt.xticks([p + 0.2 for p in x], metrics)\n",
        "plt.ylim(0, 100)\n",
        "plt.ylabel('Score (out of 100)')\n",
        "plt.title('Validation vs Testing Metrics (Scaled to 100)')\n",
        "plt.legend()\n",
        "plt.show()\n",
        "\n",
        "# 🎯 AUC-ROC Curve remains the same since it's a proportion\n",
        "plt.figure(figsize=(8, 6))\n",
        "for i in range(y_test_bin.shape[1]):\n",
        "    fpr_val, tpr_val, _ = roc_curve(y_val_bin[:, i], y_val_pred_bin[:, i])\n",
        "    fpr_test, tpr_test, _ = roc_curve(y_test_bin[:, i], y_test_pred_bin[:, i])\n",
        "\n",
        "    roc_auc_val = auc(fpr_val, tpr_val) * 100\n",
        "    roc_auc_test = auc(fpr_test, tpr_test) * 100\n",
        "\n",
        "    plt.plot(fpr_val, tpr_val, linestyle='--', label=f'Validation Class {lb.classes_[i]} (AUC={roc_auc_val:.2f})')\n",
        "    plt.plot(fpr_test, tpr_test, label=f'Test Class {lb.classes_[i]} (AUC={roc_auc_test:.2f})')\n",
        "\n",
        "plt.plot([0, 1], [0, 1], 'k--')  # Diagonal reference line\n",
        "plt.xlabel('False Positive Rate')\n",
        "plt.ylabel('True Positive Rate')\n",
        "plt.title('ROC Curve (Validation vs Testing)')\n",
        "plt.legend(loc=\"lower right\")\n",
        "plt.show()\n"
      ]
    },
    {
      "cell_type": "code",
      "execution_count": null,
      "metadata": {
        "collapsed": true,
        "id": "yrLeC3xjqCzq"
      },
      "outputs": [],
      "source": [
        "from sklearn.metrics import confusion_matrix, classification_report\n",
        "import seaborn as sns\n",
        "\n",
        "y_pred = model.predict(X_test)\n",
        "\n",
        "cm = confusion_matrix(y_test, y_pred)\n",
        "print(\"Confusion Matrix:\\n\", cm)\n"
      ]
    },
    {
      "cell_type": "markdown",
      "source": [
        "##Model Serialization"
      ],
      "metadata": {
        "id": "eFwaJFfAYzNT"
      }
    },
    {
      "cell_type": "code",
      "execution_count": null,
      "metadata": {
        "id": "BiSwwcxiqLPY"
      },
      "outputs": [],
      "source": [
        "import joblib\n",
        "\n",
        "# Save the trained model\n",
        "joblib.dump(model, 'name of your model')\n",
        "\n",
        "print(\"Model saved successfully!\")\n"
      ]
    }
  ],
  "metadata": {
    "colab": {
      "provenance": [],
      "authorship_tag": "ABX9TyN3c5QhQvvEHVgg98qirZvD",
      "include_colab_link": true
    },
    "kernelspec": {
      "display_name": "Python 3",
      "name": "python3"
    },
    "language_info": {
      "name": "python"
    }
  },
  "nbformat": 4,
  "nbformat_minor": 0
}