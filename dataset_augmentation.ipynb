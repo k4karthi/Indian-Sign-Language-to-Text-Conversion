{
  "nbformat": 4,
  "nbformat_minor": 0,
  "metadata": {
    "colab": {
      "provenance": [],
      "authorship_tag": "ABX9TyMDRZgsc1ObKttgezKNxJUs",
      "include_colab_link": true
    },
    "kernelspec": {
      "name": "python3",
      "display_name": "Python 3"
    },
    "language_info": {
      "name": "python"
    }
  },
  "cells": [
    {
      "cell_type": "markdown",
      "metadata": {
        "id": "view-in-github",
        "colab_type": "text"
      },
      "source": [
        "<a href=\"https://colab.research.google.com/github/k4karthi/Indian-Sign-Language-to-Text-Conversion/blob/main/dataset_augmentation.ipynb\" target=\"_parent\"><img src=\"https://colab.research.google.com/assets/colab-badge.svg\" alt=\"Open In Colab\"/></a>"
      ]
    },
    {
      "cell_type": "code",
      "source": [
        "!pip install albumentations"
      ],
      "metadata": {
        "id": "kC6ee88VVmEc"
      },
      "execution_count": null,
      "outputs": []
    },
    {
      "cell_type": "code",
      "source": [
        "import albumentations as A\n",
        "import cv2\n",
        "import os\n",
        "import random\n",
        "from tqdm import tqdm\n"
      ],
      "metadata": {
        "id": "vXreHeWqVpQ8"
      },
      "execution_count": null,
      "outputs": []
    },
    {
      "cell_type": "code",
      "execution_count": null,
      "metadata": {
        "id": "eUdyP_PWVXqX"
      },
      "outputs": [],
      "source": [
        "\n",
        "# Define augmentation pipeline\n",
        "augmentation = A.Compose([\n",
        "    A.Rotate(limit=5, p=0.5),\n",
        "    A.RandomBrightnessContrast(brightness_limit=0.05, contrast_limit=0.05, p=0.4),\n",
        "    A.HueSaturationValue(hue_shift_limit=2, sat_shift_limit=5, val_shift_limit=2, p=0.3),\n",
        "    A.MotionBlur(blur_limit=3, p=0.2),\n",
        "    A.GaussianBlur(blur_limit=(3, 3), p=0.1),\n",
        "    A.CLAHE(clip_limit=1.0, tile_grid_size=(8, 8), p=0.2),\n",
        "])\n",
        "\n",
        "# Set paths\n",
        "input_dir = \"path to input directory\"\n",
        "output_dir = \"path to output directory\"\n",
        "os.makedirs(output_dir, exist_ok=True)\n",
        "\n",
        "# Randomly select n classes from the dataset. Change the 'n'\n",
        "\n",
        "n=10\n",
        "\n",
        "all_classes = [folder for folder in os.listdir(input_dir) if os.path.isdir(os.path.join(input_dir, folder))]\n",
        "selected_classes = random.sample(all_classes, n)\n",
        "\n",
        "# Number of images per class . change as per your need\n",
        "target_count = 1000\n",
        "\n",
        "for class_folder in tqdm(selected_classes):\n",
        "    class_path = os.path.join(input_dir, class_folder)\n",
        "    output_class_path = os.path.join(output_dir, class_folder)\n",
        "    os.makedirs(output_class_path, exist_ok=True)\n",
        "\n",
        "    images = [img for img in os.listdir(class_path) if img.lower().endswith((\".jpg\", \".png\", \".PNG\"))]\n",
        "    original_count = len(images)\n",
        "\n",
        "    # Copy original images first\n",
        "    for img_name in images:\n",
        "        img_path = os.path.join(class_path, img_name)\n",
        "        image = cv2.imread(img_path)\n",
        "        image = cv2.cvtColor(image, cv2.COLOR_BGR2RGB)\n",
        "        cv2.imwrite(os.path.join(output_class_path, img_name), cv2.cvtColor(image, cv2.COLOR_RGB2BGR))\n",
        "\n",
        "    # Augment until reaching 750 images\n",
        "    augment_needed = target_count - original_count\n",
        "    if augment_needed > 0:\n",
        "        for i in range(augment_needed):\n",
        "            img_name = random.choice(images)\n",
        "            img_path = os.path.join(class_path, img_name)\n",
        "            image = cv2.imread(img_path)\n",
        "            image = cv2.cvtColor(image, cv2.COLOR_BGR2RGB)\n",
        "            augmented = augmentation(image=image)[\"image\"]\n",
        "            aug_img_name = f\"{img_name.split('.')[0]}_aug{i}.jpg\"\n",
        "            cv2.imwrite(os.path.join(output_class_path, aug_img_name), cv2.cvtColor(augmented, cv2.COLOR_RGB2BGR))\n",
        "\n",
        "\n",
        "print(f\"Augmentation completed for {n} classes with {target_count} images each.\")\n"
      ]
    }
  ]
}